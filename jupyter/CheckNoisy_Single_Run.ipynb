{
 "cells": [
  {
   "cell_type": "code",
   "execution_count": 4,
   "metadata": {},
   "outputs": [],
   "source": [
    "import boto3\n",
    "import io\n",
    "import re\n",
    "import numpy as np\n",
    "import os\n",
    "import xml.etree.ElementTree as ET \n",
    "from google.cloud import vision\n",
    "import requests\n",
    "from time import time\n",
    "from utilities.score_computors import jaccard_similarity\n",
    "#from utilities.pythonDB import writeToDB, recordsExists"
   ]
  },
  {
   "cell_type": "code",
   "execution_count": 5,
   "metadata": {},
   "outputs": [],
   "source": [
    "def extract_clean_str(original_str):\n",
    "    original_str = original_str.replace('<br/>', '')\n",
    "    return re.sub('[^a-zA-Z0-9]+', ' ', original_str, flags=re.UNICODE).lower().strip().replace(' ', '')\n",
    "\n",
    "def get_mapped(path):\n",
    "    key_map, dict_idx = {}, 0\n",
    "    for r, _, f in os.walk(dir_path):\n",
    "        for file in f:\n",
    "            if '.JPG' in file or '.jpg' in file:\n",
    "                key_map[dict_idx] = file\n",
    "                dict_idx += 1\n",
    "    idxs = list(key_map.keys())          \n",
    "    shuffled_idxs = np.random.randint(0, len(idxs), len(idxs))\n",
    "    return key_map, shuffled_idxs\n",
    "\n",
    "def fetch_from_xml_natocr(path, file):\n",
    "    tree = ET.parse(os.path.join(path, file)).getroot()  \n",
    "    return extract_clean_str(''.join([e[0].text for e in tree.iter(tag='object')]))"
   ]
  },
  {
   "cell_type": "code",
   "execution_count": 6,
   "metadata": {},
   "outputs": [],
   "source": [
    "dir_path = 'datasets/neocr_dataset/noises'\n",
    "xml_path = '/'.join(dir_path.split('/')[:2])+'/OCR'\n",
    "dict_files, files_idx = get_mapped(dir_path)"
   ]
  },
  {
   "cell_type": "code",
   "execution_count": 67,
   "metadata": {},
   "outputs": [],
   "source": [
    "file = dict_files.get(files_idx[10])\n",
    "file_name = '_'.join(file.split('_')[-2:])\n",
    "xml_file_name = file_name[:len(file_name)-4] + '.xml' \n",
    "ground_truth_str = fetch_from_xml_natocr(xml_path, xml_file_name)"
   ]
  },
  {
   "cell_type": "code",
   "execution_count": 80,
   "metadata": {},
   "outputs": [],
   "source": [
    "file = dict_files.get(files_idx[0])"
   ]
  },
  {
   "cell_type": "code",
   "execution_count": 82,
   "metadata": {},
   "outputs": [],
   "source": [
    "with io.open(os.path.join(dir_path, file), 'rb') as image_file:\n",
    "    content = (image_file.read())"
   ]
  },
  {
   "cell_type": "code",
   "execution_count": 84,
   "metadata": {},
   "outputs": [],
   "source": [
    "imgobj = {'Bytes': content}\n",
    "client=boto3.client('rekognition', region_name='us-east-1')\n",
    "response=client.detect_text(Image=imgobj)"
   ]
  },
  {
   "cell_type": "code",
   "execution_count": 85,
   "metadata": {},
   "outputs": [],
   "source": [
    "detected_str = extract_clean_str(''.join([txt['DetectedText'] for txt in response['TextDetections'] \\\n",
    "                                                   if txt['Type']=='WORD']))"
   ]
  },
  {
   "cell_type": "code",
   "execution_count": 88,
   "metadata": {},
   "outputs": [],
   "source": [
    "file_name = '_'.join(file.split('_')[-2:])\n",
    "xml_file_name = file_name[:len(file_name)-4] + '.xml' \n",
    "ground_truth_str = fetch_from_xml_natocr(xml_path, xml_file_name)"
   ]
  },
  {
   "cell_type": "code",
   "execution_count": 86,
   "metadata": {},
   "outputs": [
    {
     "data": {
      "text/plain": [
       "'miehin2007forthefirsttime50liviongofpeopleonearthalinhistoryincitieglobalcitiesatatemodernexhibitionfiandsecurtieyfreeadmisshangnal43mumbal42'"
      ]
     },
     "execution_count": 86,
     "metadata": {},
     "output_type": "execute_result"
    }
   ],
   "source": [
    "detected_str"
   ]
  },
  {
   "cell_type": "code",
   "execution_count": 89,
   "metadata": {},
   "outputs": [
    {
     "data": {
      "text/plain": [
       "'in2007forthefirsttimeinhistory50ofpeopleoneartharelivingincitiesglobalcitiesatatemodernexhibitionlandsecuritiesderwentlondonfreeadmissshanghai31mumbai42'"
      ]
     },
     "execution_count": 89,
     "metadata": {},
     "output_type": "execute_result"
    }
   ],
   "source": [
    "bground_truth_str"
   ]
  },
  {
   "cell_type": "code",
   "execution_count": 7,
   "metadata": {},
   "outputs": [
    {
     "data": {
      "text/plain": [
       "'add_impulse_noise_4_img_297611753.jpg'"
      ]
     },
     "execution_count": 7,
     "metadata": {},
     "output_type": "execute_result"
    }
   ],
   "source": [
    "dict_files.get(0)"
   ]
  },
  {
   "cell_type": "code",
   "execution_count": null,
   "metadata": {},
   "outputs": [],
   "source": []
  },
  {
   "cell_type": "code",
   "execution_count": null,
   "metadata": {},
   "outputs": [],
   "source": []
  },
  {
   "cell_type": "code",
   "execution_count": null,
   "metadata": {},
   "outputs": [],
   "source": []
  },
  {
   "cell_type": "code",
   "execution_count": null,
   "metadata": {},
   "outputs": [],
   "source": [
    "000000365822.jpg-image_labeling-gc"
   ]
  },
  {
   "cell_type": "code",
   "execution_count": 1,
   "metadata": {},
   "outputs": [],
   "source": [
    "from utilities.pythonDB import writeToDB_label, recordsExists"
   ]
  },
  {
   "cell_type": "code",
   "execution_count": 4,
   "metadata": {},
   "outputs": [
    {
     "data": {
      "text/plain": [
       "False"
      ]
     },
     "execution_count": 4,
     "metadata": {},
     "output_type": "execute_result"
    }
   ],
   "source": [
    "recordsExists('000000365822.jpg', 'image_labeling', 'gc')"
   ]
  },
  {
   "cell_type": "code",
   "execution_count": 5,
   "metadata": {},
   "outputs": [
    {
     "data": {
      "text/plain": [
       "\"select count(*) from research_exploration WHERE file_name='000000365822.jpg' and dataset='image_labeling'     and label='gc'\""
      ]
     },
     "execution_count": 5,
     "metadata": {},
     "output_type": "execute_result"
    }
   ],
   "source": [
    "count_query = \"select count(*) from research_exploration WHERE file_name='{}' and dataset='{}' \\\n",
    "    and label='{}'\".format('000000365822.jpg', 'image_labeling', 'gc')\n",
    "count_query"
   ]
  }
 ],
 "metadata": {
  "kernelspec": {
   "display_name": "Python (cs682)",
   "language": "python",
   "name": "cs682"
  },
  "language_info": {
   "codemirror_mode": {
    "name": "ipython",
    "version": 3
   },
   "file_extension": ".py",
   "mimetype": "text/x-python",
   "name": "python",
   "nbconvert_exporter": "python",
   "pygments_lexer": "ipython3",
   "version": "3.6.9"
  }
 },
 "nbformat": 4,
 "nbformat_minor": 2
}

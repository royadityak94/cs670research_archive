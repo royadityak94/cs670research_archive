{
 "cells": [
  {
   "cell_type": "code",
   "execution_count": 3,
   "metadata": {},
   "outputs": [
    {
     "name": "stderr",
     "output_type": "stream",
     "text": [
      "Using TensorFlow backend.\n"
     ]
    }
   ],
   "source": [
    "import tensorflow as tf\n",
    "from tensorflow.keras.models import Sequential\n",
    "from tensorflow.keras.layers import Dense, Dropout, Conv2D, Conv3D, Flatten, MaxPool2D, AveragePooling2D, BatchNormalization\n",
    "from tensorflow.keras.optimizers import SGD\n",
    "from tensorflow.keras.utils import to_categorical\n",
    "from tensorflow.keras.callbacks import CSVLogger\n",
    "from tensorflow.python.keras import metrics\n",
    "import matplotlib.pyplot as plt\n",
    "from utilities.rectified_adam import RAdam\n",
    "import numpy as np\n",
    "import sys\n",
    "from utilities.pythonDB import writeToDB, deleteExistingPrimaryKeyDB, recordsExists\n",
    "from utilities.data_preprocessors import get_random_data, MetricsAfterEachEpoch\n",
    "from keras import regularizers"
   ]
  },
  {
   "cell_type": "code",
   "execution_count": 48,
   "metadata": {},
   "outputs": [],
   "source": [
    "def model_extractor(activation_func, weight_decay=1e-4):\n",
    "    # Creating an AlexNet Classifier\n",
    "    model = Sequential()\n",
    "\n",
    "    #Instantiating Layer 1\n",
    "    model.add(Conv2D(48, kernel_size=(3, 3), strides=(1, 1), activation=activation_func, padding='valid', \n",
    "                     kernel_regularizer=regularizers.l2(weight_decay), input_shape=(32, 32, 1)))\n",
    "    model.add(MaxPool2D(pool_size=(2, 2), strides=(2, 2)))\n",
    "\n",
    "    # #Instantiating Layer 2\n",
    "    model.add(Conv2D(96, kernel_size=(3, 3), strides=(1, 1), activation=activation_func, padding='same', \n",
    "                    kernel_regularizer=regularizers.l2(weight_decay)))\n",
    "    model.add(MaxPool2D(pool_size=(2, 2), strides=(2, 2)))\n",
    "    model.add(BatchNormalization())\n",
    "    # #Instantiating Layer 3\n",
    "    model.add(Conv2D(192, kernel_size=(3, 3), strides=(1, 1), activation=activation_func, padding='same',\n",
    "                    kernel_regularizer=regularizers.l2(weight_decay)))\n",
    "    model.add(BatchNormalization())\n",
    "\n",
    "    # #Instantiating Layer 4\n",
    "    model.add(Conv2D(192, kernel_size=(3, 3), strides=(1, 1), activation=activation_func, padding='same', \n",
    "                    kernel_regularizer=regularizers.l2(weight_decay)))\n",
    "    model.add(MaxPool2D(pool_size=(2, 2), strides=(2, 2)))\n",
    "    model.add(BatchNormalization())\n",
    "\n",
    "    # #Instantiating Layer 5\n",
    "    model.add(Conv2D(256, kernel_size=(3, 3), strides=(1, 1), activation=activation_func, padding='same', \n",
    "                    kernel_regularizer=regularizers.l2(weight_decay)))\n",
    "    model.add(MaxPool2D(pool_size=(2, 2), strides=(2, 2)))\n",
    "    model.add(BatchNormalization())\n",
    "    model.add(Flatten())\n",
    "\n",
    "    #Instantiating Layer 6\n",
    "    model.add(Dense(512, activation=activation_func)) \n",
    "\n",
    "    # #Instantiating Layer 8\n",
    "    model.add(Dense(256, activation=activation_func))\n",
    "\n",
    "    #Output Layer\n",
    "    model.add(Dense(10, activation='softmax'))\n",
    "    return model"
   ]
  },
  {
   "cell_type": "code",
   "execution_count": null,
   "metadata": {},
   "outputs": [],
   "source": [
    "#, input_shape = (32, 32, 3)"
   ]
  },
  {
   "cell_type": "code",
   "execution_count": 49,
   "metadata": {
    "scrolled": true
   },
   "outputs": [
    {
     "name": "stdout",
     "output_type": "stream",
     "text": [
      "Model: \"sequential_18\"\n",
      "_________________________________________________________________\n",
      "Layer (type)                 Output Shape              Param #   \n",
      "=================================================================\n",
      "conv2d_23 (Conv2D)           (None, 30, 30, 48)        480       \n",
      "_________________________________________________________________\n",
      "max_pooling2d_4 (MaxPooling2 (None, 15, 15, 48)        0         \n",
      "_________________________________________________________________\n",
      "conv2d_24 (Conv2D)           (None, 15, 15, 96)        41568     \n",
      "_________________________________________________________________\n",
      "max_pooling2d_5 (MaxPooling2 (None, 7, 7, 96)          0         \n",
      "_________________________________________________________________\n",
      "batch_normalization_37 (Batc (None, 7, 7, 96)          384       \n",
      "_________________________________________________________________\n",
      "conv2d_25 (Conv2D)           (None, 7, 7, 192)         166080    \n",
      "_________________________________________________________________\n",
      "batch_normalization_38 (Batc (None, 7, 7, 192)         768       \n",
      "_________________________________________________________________\n",
      "conv2d_26 (Conv2D)           (None, 7, 7, 192)         331968    \n",
      "_________________________________________________________________\n",
      "max_pooling2d_6 (MaxPooling2 (None, 3, 3, 192)         0         \n",
      "_________________________________________________________________\n",
      "batch_normalization_39 (Batc (None, 3, 3, 192)         768       \n",
      "_________________________________________________________________\n",
      "conv2d_27 (Conv2D)           (None, 3, 3, 256)         442624    \n",
      "_________________________________________________________________\n",
      "max_pooling2d_7 (MaxPooling2 (None, 1, 1, 256)         0         \n",
      "_________________________________________________________________\n",
      "batch_normalization_40 (Batc (None, 1, 1, 256)         1024      \n",
      "_________________________________________________________________\n",
      "flatten_15 (Flatten)         (None, 256)               0         \n",
      "_________________________________________________________________\n",
      "dense_34 (Dense)             (None, 512)               131584    \n",
      "_________________________________________________________________\n",
      "dense_35 (Dense)             (None, 256)               131328    \n",
      "_________________________________________________________________\n",
      "dense_36 (Dense)             (None, 10)                2570      \n",
      "=================================================================\n",
      "Total params: 1,251,146\n",
      "Trainable params: 1,249,674\n",
      "Non-trainable params: 1,472\n",
      "_________________________________________________________________\n"
     ]
    }
   ],
   "source": [
    "model = model_extractor('relu')\n",
    "model.summary()"
   ]
  }
 ],
 "metadata": {
  "kernelspec": {
   "display_name": "Python (cs682)",
   "language": "python",
   "name": "cs682"
  },
  "language_info": {
   "codemirror_mode": {
    "name": "ipython",
    "version": 3
   },
   "file_extension": ".py",
   "mimetype": "text/x-python",
   "name": "python",
   "nbconvert_exporter": "python",
   "pygments_lexer": "ipython3",
   "version": "3.6.9"
  }
 },
 "nbformat": 4,
 "nbformat_minor": 2
}

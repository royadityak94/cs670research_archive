{
 "cells": [
  {
   "cell_type": "code",
   "execution_count": null,
   "metadata": {},
   "outputs": [],
   "source": []
  },
  {
   "cell_type": "code",
   "execution_count": 1,
   "metadata": {},
   "outputs": [],
   "source": [
    "import numpy as np\n",
    "import os\n",
    "import io\n",
    "from matplotlib.image import imread\n",
    "import xml.etree.ElementTree as ET \n",
    "from AdvancedDataPreprocessing import TransformDataset\n",
    "import matplotlib.pyplot as plt"
   ]
  },
  {
   "cell_type": "code",
   "execution_count": 2,
   "metadata": {},
   "outputs": [],
   "source": [
    "def get_mapped(path):\n",
    "    key_map, dict_idx = {}, 0\n",
    "    for r, _, f in os.walk(path):\n",
    "        for file in f:\n",
    "            if '.JPG' in file or '.jpg' in file:\n",
    "                key_map[dict_idx] = file\n",
    "                dict_idx += 1\n",
    "    idxs = list(key_map.keys())          \n",
    "    shuffled_idxs = np.random.randint(0, len(idxs), len(idxs))\n",
    "    return key_map, shuffled_idxs"
   ]
  },
  {
   "cell_type": "code",
   "execution_count": 82,
   "metadata": {},
   "outputs": [
    {
     "data": {
      "text/plain": [
       "(3795, 76849)"
      ]
     },
     "execution_count": 82,
     "metadata": {},
     "output_type": "execute_result"
    }
   ],
   "source": [
    "dict_files, files_idx = get_mapped('datasets/image_labeling/noises/')\n",
    "existing_files = list(set([dict_files.get(idx).split('_')[-1] for idx in files_idx ]))\n",
    "len(existing_files), len(files_idx)"
   ]
  },
  {
   "cell_type": "code",
   "execution_count": 102,
   "metadata": {},
   "outputs": [
    {
     "data": {
      "text/plain": [
       "(568, 7724)"
      ]
     },
     "execution_count": 102,
     "metadata": {},
     "output_type": "execute_result"
    }
   ],
   "source": [
    "dict_files, files_idx = get_mapped('datasets/KAIST/noises/')\n",
    "existing_files = list(set([dict_files.get(idx).split('_')[-1] for idx in files_idx ]))\n",
    "len(existing_files), len(files_idx)"
   ]
  },
  {
   "cell_type": "code",
   "execution_count": 99,
   "metadata": {},
   "outputs": [
    {
     "data": {
      "text/plain": [
       "(135, 2894)"
      ]
     },
     "execution_count": 99,
     "metadata": {},
     "output_type": "execute_result"
    }
   ],
   "source": [
    "dict_files, files_idx = get_mapped('datasets/neocr_dataset/noises/')\n",
    "existing_files = list(set([dict_files.get(idx).split('_')[-1] for idx in files_idx ]))\n",
    "len(existing_files), len(files_idx)"
   ]
  },
  {
   "cell_type": "code",
   "execution_count": 104,
   "metadata": {},
   "outputs": [
    {
     "data": {
      "text/plain": [
       "(135, 2894)"
      ]
     },
     "execution_count": 104,
     "metadata": {},
     "output_type": "execute_result"
    }
   ],
   "source": [
    "dict_files, files_idx = get_mapped('datasets/neocr_dataset/noises/')\n",
    "existing_files = list(set([dict_files.get(idx).split('_')[-1] for idx in files_idx ]))\n",
    "len(existing_files), len(files_idx)"
   ]
  },
  {
   "cell_type": "code",
   "execution_count": 95,
   "metadata": {},
   "outputs": [],
   "source": [
    "dict_files, files_idx = get_mapped('datasets/neocr_dataset/Engl/')"
   ]
  },
  {
   "cell_type": "code",
   "execution_count": 111,
   "metadata": {},
   "outputs": [
    {
     "data": {
      "text/plain": [
       "array([51058, 20275,   308, ..., 72525, 73403, 39656])"
      ]
     },
     "execution_count": 111,
     "metadata": {},
     "output_type": "execute_result"
    }
   ],
   "source": [
    "files_idx`"
   ]
  },
  {
   "cell_type": "code",
   "execution_count": 105,
   "metadata": {},
   "outputs": [],
   "source": [
    "from utilities.pythonDB import recordsExists"
   ]
  },
  {
   "cell_type": "code",
   "execution_count": 106,
   "metadata": {},
   "outputs": [
    {
     "data": {
      "text/plain": [
       "True"
      ]
     },
     "execution_count": 106,
     "metadata": {},
     "output_type": "execute_result"
    }
   ],
   "source": [
    "recordsExists('img_229351388.jpg', 'neocr_dataset', 'aws-OCR-noisy', '6', 'gaussian_blur')"
   ]
  },
  {
   "cell_type": "code",
   "execution_count": null,
   "metadata": {},
   "outputs": [],
   "source": [
    "recordsExists('img_229351388.jpg', 'neocr_dataset', 'aws-OCR-noisy', '6', 'gaussian_blur')"
   ]
  },
  {
   "cell_type": "code",
   "execution_count": null,
   "metadata": {},
   "outputs": [],
   "source": [
    "img_229351388.jpg-neocr_dataset-aws-OCR-noisy"
   ]
  },
  {
   "cell_type": "code",
   "execution_count": null,
   "metadata": {},
   "outputs": [],
   "source": [
    " |  | aws-OCR-noisy | 6        | gaussian_blur"
   ]
  },
  {
   "cell_type": "code",
   "execution_count": null,
   "metadata": {},
   "outputs": [],
   "source": []
  },
  {
   "cell_type": "code",
   "execution_count": null,
   "metadata": {},
   "outputs": [],
   "source": []
  },
  {
   "cell_type": "code",
   "execution_count": null,
   "metadata": {},
   "outputs": [],
   "source": []
  },
  {
   "cell_type": "code",
   "execution_count": null,
   "metadata": {},
   "outputs": [],
   "source": []
  }
 ],
 "metadata": {
  "kernelspec": {
   "display_name": "Python (cs682)",
   "language": "python",
   "name": "cs682"
  },
  "language_info": {
   "codemirror_mode": {
    "name": "ipython",
    "version": 3
   },
   "file_extension": ".py",
   "mimetype": "text/x-python",
   "name": "python",
   "nbconvert_exporter": "python",
   "pygments_lexer": "ipython3",
   "version": "3.6.9"
  }
 },
 "nbformat": 4,
 "nbformat_minor": 2
}

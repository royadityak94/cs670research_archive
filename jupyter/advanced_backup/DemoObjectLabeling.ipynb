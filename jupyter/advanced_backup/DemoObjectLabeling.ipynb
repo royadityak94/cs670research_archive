{
 "cells": [
  {
   "cell_type": "code",
   "execution_count": 10,
   "metadata": {},
   "outputs": [],
   "source": [
    "import boto3\n",
    "import io\n",
    "import re\n",
    "import numpy as np\n",
    "import os\n",
    "import xml.etree.ElementTree as ET \n",
    "from google.cloud import vision\n",
    "import requests\n",
    "import json\n",
    "from utilities.pythonDB import writeToDB, recordsExists"
   ]
  },
  {
   "cell_type": "code",
   "execution_count": 5,
   "metadata": {},
   "outputs": [],
   "source": [
    "def extract_clean_str(original_str):\n",
    "    original_str = original_str.replace('<br/>', '')\n",
    "    return re.sub('[^a-zA-Z0-9]+', ' ', original_str, flags=re.UNICODE).lower().strip().replace(' ', '')\n",
    "\n",
    "def get_mapped(path):\n",
    "    key_map, dict_idx = {}, 0\n",
    "    for r, _, f in os.walk(dir_path):\n",
    "        for file in f:\n",
    "            if '.JPG' in file or '.jpg' in file:\n",
    "                key_map[dict_idx] = file\n",
    "                dict_idx += 1\n",
    "    idxs = list(key_map.keys())          \n",
    "    shuffled_idxs = np.random.randint(0, len(idxs), len(idxs))\n",
    "    return key_map, shuffled_idxs\n",
    "\n",
    "def get_captions(base_path, annotation_file):\n",
    "    with open(os.path.join(base_path, annotation_file)) as json_file:\n",
    "        caption_file = json.load(json_file)\n",
    "    captions, mapped_annotation = {}, {}\n",
    "\n",
    "    for annotation in caption_file['annotations']:\n",
    "        mapped_annotation[annotation['image_id']] = annotation['caption']\n",
    "\n",
    "    for image in caption_file['images']:\n",
    "        captions[image['file_name']] = mapped_annotation.get(image['id'])\n",
    "    return captions\n",
    "\n",
    "def fetch_from_xml(path, file):\n",
    "    tree = ET.parse(os.path.join(path, file)).getroot()  \n",
    "    return extract_clean_str(''.join([e.attrib['char'] for e in tree.iter(tag='character')]))"
   ]
  },
  {
   "cell_type": "code",
   "execution_count": 6,
   "metadata": {},
   "outputs": [],
   "source": [
    "class DetectLabels():\n",
    "    def __init__(self, base, file, max_labels=30):\n",
    "        with io.open(os.path.join(base, file), 'rb') as image_file:\n",
    "            content = (image_file.read())\n",
    "        \n",
    "        self.content = content\n",
    "        self.base, self.file, self.actual_str, self.detected_str = base, file, '', ''\n",
    "        self.label = ''\n",
    "        self.start = time()\n",
    "        self.max_labels = max_labels\n",
    "    def return_function(self, name):\n",
    "        return getattr(self, 'if_' + name)()\n",
    "    def if_gc(self):\n",
    "        vision_client = vision.ImageAnnotatorClient()\n",
    "        image = vision.types.Image(content=self.content)\n",
    "        text_detection_response = vision_client.label_detection(image=image)\n",
    "        return [label.description for label in text_detection_response.label_annotations]\n",
    "    def if_aws(self):\n",
    "        imgobj = {'Bytes': self.content}\n",
    "        client=boto3.client('rekognition', region_name='us-east-1')\n",
    "        response=client.detect_labels(Image=imgobj, MaxLabels=self.max_labels)\n",
    "        return [label['Name'] for label in response['Labels']]\n",
    "    def if_azure(self):\n",
    "        subscription_key = os.environ['COMPUTER_VISION_SUBSCRIPTION_KEY']\n",
    "        endpoint = os.environ['COMPUTER_VISION_ENDPOINT']\n",
    "        ocr_url = endpoint + \"vision/v2.1/describe\"\n",
    "        headers = {'Ocp-Apim-Subscription-Key': subscription_key, 'Content-Type': 'application/octet-stream'}\n",
    "        params = {'maxCandidates': self.max_labels}\n",
    "        response = requests.post(ocr_url, headers=headers, params=params, data=self.content).json()\n",
    "        return response['description']['tags']"
   ]
  },
  {
   "cell_type": "code",
   "execution_count": 9,
   "metadata": {},
   "outputs": [],
   "source": [
    "annotation_dir_path = 'datasets/image_labeling/annotations'\n",
    "train_dir_path = 'datasets/image_labeling/train2017'\n",
    "captions_validation = get_captions(annotation_dir_path, 'captions_val2017.json')\n",
    "captions = get_captions(annotation_dir_path, 'captions_train2017.json')\n",
    "captions.update(captions_validation)\n",
    "del captions_validation"
   ]
  },
  {
   "cell_type": "code",
   "execution_count": 13,
   "metadata": {},
   "outputs": [],
   "source": [
    "dir_path = 'datasets/image_labeling/val2017/'\n",
    "dict_files, files_idx = get_mapped(dir_path)\n",
    "shuffled_idx = np.random.randint(0, len(files_idx), len(files_idx))"
   ]
  },
  {
   "cell_type": "code",
   "execution_count": null,
   "metadata": {},
   "outputs": [],
   "source": []
  },
  {
   "cell_type": "code",
   "execution_count": 14,
   "metadata": {},
   "outputs": [
    {
     "name": "stdout",
     "output_type": "stream",
     "text": [
      "['Cat', 'Mammal', 'Small to medium-sized cats', 'Whiskers', 'Felidae', 'Tabby cat', 'European shorthair', 'Carnivore', 'American shorthair', 'Domestic short-haired cat']\n"
     ]
    }
   ],
   "source": [
    "detected_labels = DetectLabels(dir_path, dict_files.get(shuffled_idx[2]) ).return_function('gc')\n",
    "print (detected_labels)"
   ]
  },
  {
   "cell_type": "code",
   "execution_count": 16,
   "metadata": {},
   "outputs": [
    {
     "data": {
      "text/plain": [
       "'000000287649.jpg'"
      ]
     },
     "execution_count": 16,
     "metadata": {},
     "output_type": "execute_result"
    }
   ],
   "source": [
    "dict_files.get(shuffled_idx[2])"
   ]
  },
  {
   "cell_type": "code",
   "execution_count": null,
   "metadata": {},
   "outputs": [],
   "source": []
  },
  {
   "cell_type": "code",
   "execution_count": null,
   "metadata": {},
   "outputs": [],
   "source": []
  },
  {
   "cell_type": "code",
   "execution_count": null,
   "metadata": {},
   "outputs": [],
   "source": []
  }
 ],
 "metadata": {
  "kernelspec": {
   "display_name": "Python (cs682)",
   "language": "python",
   "name": "cs682"
  },
  "language_info": {
   "codemirror_mode": {
    "name": "ipython",
    "version": 3
   },
   "file_extension": ".py",
   "mimetype": "text/x-python",
   "name": "python",
   "nbconvert_exporter": "python",
   "pygments_lexer": "ipython3",
   "version": "3.6.9"
  }
 },
 "nbformat": 4,
 "nbformat_minor": 2
}

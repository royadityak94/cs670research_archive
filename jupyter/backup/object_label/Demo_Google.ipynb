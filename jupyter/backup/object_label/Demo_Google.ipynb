{
 "cells": [
  {
   "cell_type": "code",
   "execution_count": 3,
   "metadata": {},
   "outputs": [],
   "source": [
    "from google.oauth2 import service_account\n",
    "from google.cloud import vision\n",
    "import io\n",
    "import re\n",
    "import numpy as np\n",
    "import os\n",
    "import xml.etree.ElementTree as ET \n",
    "from joblib import Parallel, delayed\n",
    "import multiprocessing"
   ]
  },
  {
   "cell_type": "code",
   "execution_count": 4,
   "metadata": {},
   "outputs": [],
   "source": [
    "def extract_clean_str(original_str):\n",
    "    return re.sub('[^a-zA-Z0-9]+', ' ', original_str, flags=re.UNICODE).lower().strip().replace(' ', '')\n",
    "\n",
    "def get_mapped(path):\n",
    "    key_map, dict_idx = {}, 0\n",
    "    for r, _, f in os.walk(dir_path):\n",
    "        for file in f:\n",
    "            if '.JPG' in file or '.jpg' in file:\n",
    "                key_map[dict_idx] = file\n",
    "                dict_idx += 1\n",
    "    idxs = list(key_map.keys())          \n",
    "    shuffled_idxs = np.random.randint(0, len(idxs), len(idxs))\n",
    "    return key_map, shuffled_idxs\n",
    "\n",
    "def fetch_from_xml(path, file):\n",
    "    tree = ET.parse(os.path.join(path, file)).getroot()  \n",
    "    return extract_clean_str(''.join([e.attrib['char'] for e in tree.iter(tag='character')]))"
   ]
  },
  {
   "cell_type": "code",
   "execution_count": 5,
   "metadata": {},
   "outputs": [],
   "source": [
    "dir_path = 'val2017/'\n",
    "dict_files, files_idx = get_mapped(dir_path)\n",
    "shuffled_idx = np.random.randint(0, len(files_idx), len(files_idx))\n",
    "file = '000000523957.jpg' #dict_files.get(shuffled_idx[65]) \n",
    "with io.open(os.path.join(dir_path, file), 'rb') as image_file:\n",
    "    content = (image_file.read())"
   ]
  },
  {
   "cell_type": "code",
   "execution_count": 20,
   "metadata": {},
   "outputs": [],
   "source": [
    "vision_client = vision.ImageAnnotatorClient()\n",
    "image = vision.types.Image(content=content)\n",
    "text_detection_response = vision_client.label_detection(image=image)\n",
    "detected_labels = [label.description for label in text_detection_response.label_annotations]"
   ]
  },
  {
   "cell_type": "code",
   "execution_count": 18,
   "metadata": {},
   "outputs": [],
   "source": []
  },
  {
   "cell_type": "code",
   "execution_count": 21,
   "metadata": {},
   "outputs": [
    {
     "data": {
      "text/plain": [
       "['Outdoor recreation',\n",
       " 'Recreation',\n",
       " 'Longboard',\n",
       " 'Skateboard',\n",
       " 'Skateboarding Equipment',\n",
       " 'Longboarding',\n",
       " 'Sports',\n",
       " 'Individual sports',\n",
       " 'Skateboarding',\n",
       " 'Boardsport']"
      ]
     },
     "execution_count": 21,
     "metadata": {},
     "output_type": "execute_result"
    }
   ],
   "source": [
    "detected_labels"
   ]
  },
  {
   "cell_type": "code",
   "execution_count": 17,
   "metadata": {},
   "outputs": [
    {
     "data": {
      "text/plain": [
       "[mid: \"/m/05b0n7k\"\n",
       "description: \"Outdoor recreation\"\n",
       "score: 0.890464723110199\n",
       "topicality: 0.890464723110199\n",
       ", mid: \"/m/06bm2\"\n",
       "description: \"Recreation\"\n",
       "score: 0.8842983841896057\n",
       "topicality: 0.8842983841896057\n",
       ", mid: \"/m/02nnq5\"\n",
       "description: \"Longboard\"\n",
       "score: 0.8223562836647034\n",
       "topicality: 0.8223562836647034\n",
       ", mid: \"/m/06_fw\"\n",
       "description: \"Skateboard\"\n",
       "score: 0.8150969743728638\n",
       "topicality: 0.8150969743728638\n",
       ", mid: \"/m/0bpn3c2\"\n",
       "description: \"Skateboarding Equipment\"\n",
       "score: 0.791763961315155\n",
       "topicality: 0.791763961315155\n",
       ", mid: \"/m/03bx07d\"\n",
       "description: \"Longboarding\"\n",
       "score: 0.7709515690803528\n",
       "topicality: 0.7709515690803528\n",
       ", mid: \"/m/06ntj\"\n",
       "description: \"Sports\"\n",
       "score: 0.7704066038131714\n",
       "topicality: 0.7704066038131714\n",
       ", mid: \"/m/08t0vy\"\n",
       "description: \"Individual sports\"\n",
       "score: 0.7562195658683777\n",
       "topicality: 0.7562195658683777\n",
       ", mid: \"/m/06zfw\"\n",
       "description: \"Skateboarding\"\n",
       "score: 0.7472692728042603\n",
       "topicality: 0.7472692728042603\n",
       ", mid: \"/m/09qkx\"\n",
       "description: \"Boardsport\"\n",
       "score: 0.7298285365104675\n",
       "topicality: 0.7298285365104675\n",
       "]"
      ]
     },
     "execution_count": 17,
     "metadata": {},
     "output_type": "execute_result"
    }
   ],
   "source": [
    "\n",
    "text_detection_response.label_annotations"
   ]
  },
  {
   "cell_type": "code",
   "execution_count": null,
   "metadata": {},
   "outputs": [],
   "source": []
  },
  {
   "cell_type": "code",
   "execution_count": null,
   "metadata": {},
   "outputs": [],
   "source": []
  },
  {
   "cell_type": "code",
   "execution_count": null,
   "metadata": {},
   "outputs": [],
   "source": []
  },
  {
   "cell_type": "code",
   "execution_count": null,
   "metadata": {},
   "outputs": [],
   "source": []
  }
 ],
 "metadata": {
  "kernelspec": {
   "display_name": "Python (cs682)",
   "language": "python",
   "name": "cs682"
  },
  "language_info": {
   "codemirror_mode": {
    "name": "ipython",
    "version": 3
   },
   "file_extension": ".py",
   "mimetype": "text/x-python",
   "name": "python",
   "nbconvert_exporter": "python",
   "pygments_lexer": "ipython3",
   "version": "3.6.9"
  }
 },
 "nbformat": 4,
 "nbformat_minor": 2
}

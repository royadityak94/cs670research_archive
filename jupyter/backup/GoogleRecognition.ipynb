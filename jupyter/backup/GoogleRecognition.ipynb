{
 "cells": [
  {
   "cell_type": "code",
   "execution_count": 6,
   "metadata": {},
   "outputs": [],
   "source": [
    "from google.oauth2 import service_account\n",
    "from google.cloud import vision\n",
    "import io\n",
    "import re\n",
    "import numpy as np\n",
    "import os\n",
    "import xml.etree.ElementTree as ET \n",
    "from joblib import Parallel, delayed\n",
    "import multiprocessing\n",
    "from utilities.score_computors import are_sentences_alike"
   ]
  },
  {
   "cell_type": "code",
   "execution_count": 3,
   "metadata": {},
   "outputs": [],
   "source": [
    "def extract_clean_str(original_str):\n",
    "    return re.sub('[^a-zA-Z0-9]+', ' ', original_str, flags=re.UNICODE).lower().strip().replace(' ', '')\n",
    "\n",
    "def get_mapped(path):\n",
    "    key_map, dict_idx = {}, 0\n",
    "    for r, _, f in os.walk(dir_path):\n",
    "        for file in f:\n",
    "            if '.JPG' in file or '.jpg' in file:\n",
    "                key_map[dict_idx] = file\n",
    "                dict_idx += 1\n",
    "    idxs = list(key_map.keys())          \n",
    "    shuffled_idxs = np.random.randint(0, len(idxs), len(idxs))\n",
    "    return key_map, shuffled_idxs\n",
    "\n",
    "def fetch_from_xml(path, file):\n",
    "    tree = ET.parse(os.path.join(path, file)).getroot()  \n",
    "    return extract_clean_str(''.join([e.attrib['char'] for e in tree.iter(tag='character')]))"
   ]
  },
  {
   "cell_type": "code",
   "execution_count": 4,
   "metadata": {},
   "outputs": [],
   "source": [
    "def compute_text_recognition(file):\n",
    "    cutoff=0.6\n",
    "    try:\n",
    "        xml_file = file[:len(file)-4] + '.xml' \n",
    "        if not os.path.exists(os.path.join(dir_path, xml_file)):\n",
    "            return False\n",
    "    except:\n",
    "        return False\n",
    "    ground_truth_str = fetch_from_xml(dir_path, xml_file)\n",
    "    if len(ground_truth_str) == 0:\n",
    "        return False\n",
    "    with io.open(os.path.join(dir_path, file), 'rb') as image_file:\n",
    "        content = (image_file.read())\n",
    "    vision_client = vision.ImageAnnotatorClient()\n",
    "    image = vision.types.Image(content=content)\n",
    "    text_detection_response = vision_client.text_detection(image=image)\n",
    "    detected_str = extract_clean_str(text_detection_response.full_text_annotation.text)\n",
    "    if are_sentences_alike(detected_str, ground_truth_str, cutoff) and len(detected_str) != 0:\n",
    "        return True\n",
    "    else:\n",
    "        return False"
   ]
  },
  {
   "cell_type": "code",
   "execution_count": 5,
   "metadata": {},
   "outputs": [],
   "source": [
    "dir_path = 'datasets/KAIST/English/'\n",
    "dict_files, files_idx = get_mapped(dir_path)\n",
    "shuffled_idx = np.random.randint(0, len(files_idx), len(files_idx))\n",
    "outcomes = [False] * len(shuffled_idx)\n",
    "inputs = [dict_files.get(shuffled_idx[i]) for i in range(len(shuffled_idx))]"
   ]
  },
  {
   "cell_type": "code",
   "execution_count": 6,
   "metadata": {},
   "outputs": [
    {
     "name": "stderr",
     "output_type": "stream",
     "text": [
      "/home/ec2-user/anaconda3/lib/python3.6/site-packages/joblib/externals/loky/process_executor.py:706: UserWarning: A worker stopped while some jobs were given to the executor. This can be caused by a too short worker timeout or by a memory leak.\n",
      "  \"timeout or by a memory leak.\", UserWarning\n"
     ]
    },
    {
     "name": "stdout",
     "output_type": "stream",
     "text": [
      "Accuracy = 0.7432\n"
     ]
    }
   ],
   "source": [
    "results = Parallel(n_jobs=multiprocessing.cpu_count())(delayed(compute_text_recognition)(i) for i in inputs)\n",
    "acc = np.sum(results) / len(results)\n",
    "print (\"Accuracy = {}\".format(round(acc, 4)))"
   ]
  }
 ],
 "metadata": {
  "kernelspec": {
   "display_name": "Python (cs682)",
   "language": "python",
   "name": "cs682"
  },
  "language_info": {
   "codemirror_mode": {
    "name": "ipython",
    "version": 3
   },
   "file_extension": ".py",
   "mimetype": "text/x-python",
   "name": "python",
   "nbconvert_exporter": "python",
   "pygments_lexer": "ipython3",
   "version": "3.6.9"
  }
 },
 "nbformat": 4,
 "nbformat_minor": 2
}

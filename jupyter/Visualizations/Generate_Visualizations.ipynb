{
 "cells": [
  {
   "cell_type": "code",
   "execution_count": 3,
   "metadata": {},
   "outputs": [],
   "source": [
    "import numpy as np\n",
    "import matplotlib.pyplot as plt\n",
    "import mysql.connector\n",
    "import pandas as pd\n",
    "import json\n",
    "from sqlalchemy import create_engine\n",
    "#import pymysql"
   ]
  },
  {
   "cell_type": "code",
   "execution_count": 49,
   "metadata": {},
   "outputs": [],
   "source": [
    "db_conn = mysql.connector.connect(host=\"localhost\", user=\"root\", passwd=\"1234\",  database='cs670research')\n",
    "db_cursor = db_conn.cursor(buffered=True)\n",
    "insert_query = \"SELECT * FROM research_exploration \"\n",
    "pandasDf =  pd.read_sql(insert_query, con=db_conn)"
   ]
  },
  {
   "cell_type": "code",
   "execution_count": 48,
   "metadata": {},
   "outputs": [
    {
     "data": {
      "text/plain": [
       "array(['image_labeling', 'KAIST', 'neocr_dataset'], dtype=object)"
      ]
     },
     "execution_count": 48,
     "metadata": {},
     "output_type": "execute_result"
    }
   ],
   "source": [
    "pandasDf['dataset'].unique()"
   ]
  },
  {
   "cell_type": "code",
   "execution_count": null,
   "metadata": {},
   "outputs": [],
   "source": [
    "# KAIST neocr_dataset"
   ]
  },
  {
   "cell_type": "code",
   "execution_count": 50,
   "metadata": {},
   "outputs": [
    {
     "data": {
      "image/png": "[encoded data removed]",
      "text/plain": [
       "<Figure size 864x216 with 1 Axes>"
      ]
     },
     "metadata": {
      "needs_background": "light"
     },
     "output_type": "display_data"
    }
   ],
   "source": [
    "#pandasDf = pandasDf[(pandasDf['label']!='gc') &  (pandasDf['dataset']!='image_labeling')]\n",
    "pdOcr = pandasDf[pandasDf['dataset'].isin(['KAIST', 'neocr_dataset', 'image_labeling'])]\n",
    "pdOcrSuccess = pdOcr[pdOcr['status']!='0']\n",
    "pdOcrSuccess.loc[pdOcrSuccess.label == 'aws-OCR', 'label'] = 'aws'\n",
    "pdOcrSuccess.loc[pdOcrSuccess.label == 'azure-OCR', 'label'] = 'azure'\n",
    "pdOcrSuccess.loc[pdOcrSuccess.label == 'gc-OCR', 'label'] = 'gc'\n",
    "#pdOcrSuccess['score']=pdOcrSuccess['score'].astype('float64')\n",
    "pdOcrSuccess['time']=pdOcrSuccess['time'].astype('float64')\n",
    "pdOcrSuccess['status']=pdOcrSuccess['status'].astype('int32')\n",
    "\n",
    "pivot_view = pd.pivot_table(pdOcrSuccess, index='dataset', columns='label', values='status', aggfunc='count')\n",
    "\n",
    "ax = pivot_view.plot(kind='barh', figsize=(12, 3), width=.8)\n",
    "ax.legend(loc='best')\n",
    "ax.set_ylabel('OCR Dataset')\n",
    "ax.set_xlabel('Average Time taken')\n",
    "ax.set_title('Average time taken for each dataset on different platforms')\n",
    "plt.tight_layout()\n",
    "for p in ax.patches:\n",
    "    if round(p.get_width(), 3) == 0.0:\n",
    "        continue\n",
    "    ax.text(p.get_width()*1.01, p.get_y()*1.01, str(round(p.get_width(), 3)))"
   ]
  },
  {
   "cell_type": "code",
   "execution_count": null,
   "metadata": {},
   "outputs": [],
   "source": []
  },
  {
   "cell_type": "code",
   "execution_count": 41,
   "metadata": {},
   "outputs": [],
   "source": []
  },
  {
   "cell_type": "code",
   "execution_count": null,
   "metadata": {},
   "outputs": [],
   "source": []
  },
  {
   "cell_type": "code",
   "execution_count": null,
   "metadata": {},
   "outputs": [],
   "source": []
  },
  {
   "cell_type": "code",
   "execution_count": 27,
   "metadata": {},
   "outputs": [
    {
     "name": "stderr",
     "output_type": "stream",
     "text": [
      "/home/ec2-user/anaconda3/lib/python3.6/site-packages/ipykernel_launcher.py:3: SettingWithCopyWarning: \n",
      "A value is trying to be set on a copy of a slice from a DataFrame\n",
      "\n",
      "See the caveats in the documentation: http://pandas.pydata.org/pandas-docs/stable/user_guide/indexing.html#returning-a-view-versus-a-copy\n",
      "  This is separate from the ipykernel package so we can avoid doing imports until\n",
      "/home/ec2-user/anaconda3/lib/python3.6/site-packages/ipykernel_launcher.py:4: SettingWithCopyWarning: \n",
      "A value is trying to be set on a copy of a slice from a DataFrame\n",
      "\n",
      "See the caveats in the documentation: http://pandas.pydata.org/pandas-docs/stable/user_guide/indexing.html#returning-a-view-versus-a-copy\n",
      "  after removing the cwd from sys.path.\n",
      "/home/ec2-user/anaconda3/lib/python3.6/site-packages/ipykernel_launcher.py:5: SettingWithCopyWarning: \n",
      "A value is trying to be set on a copy of a slice from a DataFrame\n",
      "\n",
      "See the caveats in the documentation: http://pandas.pydata.org/pandas-docs/stable/user_guide/indexing.html#returning-a-view-versus-a-copy\n",
      "  \"\"\"\n",
      "/home/ec2-user/anaconda3/lib/python3.6/site-packages/ipykernel_launcher.py:6: SettingWithCopyWarning: \n",
      "A value is trying to be set on a copy of a slice from a DataFrame.\n",
      "Try using .loc[row_indexer,col_indexer] = value instead\n",
      "\n",
      "See the caveats in the documentation: http://pandas.pydata.org/pandas-docs/stable/user_guide/indexing.html#returning-a-view-versus-a-copy\n",
      "  \n",
      "/home/ec2-user/anaconda3/lib/python3.6/site-packages/ipykernel_launcher.py:7: SettingWithCopyWarning: \n",
      "A value is trying to be set on a copy of a slice from a DataFrame.\n",
      "Try using .loc[row_indexer,col_indexer] = value instead\n",
      "\n",
      "See the caveats in the documentation: http://pandas.pydata.org/pandas-docs/stable/user_guide/indexing.html#returning-a-view-versus-a-copy\n",
      "  import sys\n",
      "/home/ec2-user/anaconda3/lib/python3.6/site-packages/ipykernel_launcher.py:8: SettingWithCopyWarning: \n",
      "A value is trying to be set on a copy of a slice from a DataFrame.\n",
      "Try using .loc[row_indexer,col_indexer] = value instead\n",
      "\n",
      "See the caveats in the documentation: http://pandas.pydata.org/pandas-docs/stable/user_guide/indexing.html#returning-a-view-versus-a-copy\n",
      "  \n"
     ]
    }
   ],
   "source": [
    "pdOcr = pandasDf[pandasDf['dataset'].isin(['KAIST', 'neocr_dataset'])]\n",
    "pdOcrSuccess = pdOcr[pdOcr['status']!='0']\n",
    "pdOcrSuccess.loc[pdOcrSuccess.label == 'aws-OCR', 'label'] = 'aws'\n",
    "pdOcrSuccess.loc[pdOcrSuccess.label == 'azure-OCR', 'label'] = 'azure'\n",
    "pdOcrSuccess.loc[pdOcrSuccess.label == 'gc-OCR', 'label'] = 'gc'\n",
    "pdOcrSuccess['score']=pdOcrSuccess['score'].astype('float64')\n",
    "pdOcrSuccess['time']=pdOcrSuccess['time'].astype('float64')\n",
    "pdOcrSuccess['status']=pdOcrSuccess['status'].astype('int32')"
   ]
  },
  {
   "cell_type": "code",
   "execution_count": 28,
   "metadata": {},
   "outputs": [
    {
     "data": {
      "text/plain": [
       "array([-2, -4, -3])"
      ]
     },
     "execution_count": 28,
     "metadata": {},
     "output_type": "execute_result"
    }
   ],
   "source": [
    "pdOcrSuccess['status'].unique()"
   ]
  },
  {
   "cell_type": "code",
   "execution_count": null,
   "metadata": {},
   "outputs": [],
   "source": [
    "#pdOcrSuccess.replace('aws-OCR', 'aws')\n",
    "display(pdOcrSuccess)"
   ]
  },
  {
   "cell_type": "code",
   "execution_count": 7,
   "metadata": {},
   "outputs": [
    {
     "data": {
      "text/plain": [
       "1.0716496382088496"
      ]
     },
     "execution_count": 7,
     "metadata": {},
     "output_type": "execute_result"
    }
   ],
   "source": [
    "pdOcrSuccess['time'].mean()"
   ]
  },
  {
   "cell_type": "code",
   "execution_count": 32,
   "metadata": {},
   "outputs": [
    {
     "data": {
      "image/png": "[encoded data removed]",
      "text/plain": [
       "<Figure size 864x216 with 1 Axes>"
      ]
     },
     "metadata": {
      "needs_background": "light"
     },
     "output_type": "display_data"
    }
   ],
   "source": [
    "#plt.figure(figsize=(1, 1))\n",
    "pivot_view = pd.pivot_table(pdOcrSuccess, index='dataset', columns='label', values='status', aggfunc='count')\n",
    "\n",
    "ax = pivot_view.plot(kind='barh', figsize=(12, 3), width=.8)\n",
    "ax.legend(loc='best')\n",
    "ax.set_ylabel('OCR Dataset')\n",
    "ax.set_xlabel('Average Time taken')\n",
    "ax.set_title('Average time taken for each dataset on different platforms')\n",
    "plt.tight_layout()\n",
    "for p in ax.patches:\n",
    "    if round(p.get_width(), 3) == 0.0:\n",
    "        continue\n",
    "    ax.text(p.get_width()*1.01, p.get_y()*1.01, str(round(p.get_width(), 3)))"
   ]
  },
  {
   "cell_type": "code",
   "execution_count": 12,
   "metadata": {},
   "outputs": [
    {
     "data": {
      "image/png": "[encoded data removed]",
      "text/plain": [
       "<Figure size 864x216 with 1 Axes>"
      ]
     },
     "metadata": {
      "needs_background": "light"
     },
     "output_type": "display_data"
    }
   ],
   "source": [
    "#plt.figure(figsize=(1, 1))\n",
    "pivot_view = pd.pivot_table(pdOcrSuccess, index='dataset', columns='label', values='time', aggfunc=np.mean)\n",
    "\n",
    "ax = pivot_view.plot(kind='barh', figsize=(12, 3), width=.8)\n",
    "ax.legend(loc='best')\n",
    "ax.set_ylabel('OCR Dataset')\n",
    "ax.set_xlabel('Average Time taken')\n",
    "ax.set_title('Average time taken for each dataset on different platforms')\n",
    "plt.tight_layout()\n",
    "for p in ax.patches:\n",
    "    if round(p.get_width(), 3) == 0.0:\n",
    "        continue\n",
    "    ax.text(p.get_width()*1.01, p.get_y()*1.01, str(round(p.get_width(), 3)))"
   ]
  },
  {
   "cell_type": "code",
   "execution_count": 10,
   "metadata": {},
   "outputs": [
    {
     "data": {
      "text/html": [
       "<div>\n",
       "<style scoped>\n",
       "    .dataframe tbody tr th:only-of-type {\n",
       "        vertical-align: middle;\n",
       "    }\n",
       "\n",
       "    .dataframe tbody tr th {\n",
       "        vertical-align: top;\n",
       "    }\n",
       "\n",
       "    .dataframe thead th {\n",
       "        text-align: right;\n",
       "    }\n",
       "</style>\n",
       "<table border=\"1\" class=\"dataframe\">\n",
       "  <thead>\n",
       "    <tr style=\"text-align: right;\">\n",
       "      <th></th>\n",
       "      <th>file_name</th>\n",
       "      <th>dataset</th>\n",
       "      <th>label</th>\n",
       "      <th>status</th>\n",
       "      <th>score</th>\n",
       "      <th>time</th>\n",
       "      <th>actual_str</th>\n",
       "      <th>detected_str</th>\n",
       "    </tr>\n",
       "  </thead>\n",
       "  <tbody>\n",
       "    <tr>\n",
       "      <th>20732</th>\n",
       "      <td>001.jpg</td>\n",
       "      <td>KAIST</td>\n",
       "      <td>aws</td>\n",
       "      <td>0</td>\n",
       "      <td>0.733333</td>\n",
       "      <td>1.372061</td>\n",
       "      <td>yuppieweinsberg</td>\n",
       "      <td>yuppiefusionbeerweinsbergt11491989ls</td>\n",
       "    </tr>\n",
       "    <tr>\n",
       "      <th>20733</th>\n",
       "      <td>001.jpg</td>\n",
       "      <td>KAIST</td>\n",
       "      <td>azure</td>\n",
       "      <td>0</td>\n",
       "      <td>0.500000</td>\n",
       "      <td>0.092751</td>\n",
       "      <td>yuppieweinsberg</td>\n",
       "      <td>unnsna</td>\n",
       "    </tr>\n",
       "    <tr>\n",
       "      <th>20734</th>\n",
       "      <td>001.jpg</td>\n",
       "      <td>KAIST</td>\n",
       "      <td>gc</td>\n",
       "      <td>0</td>\n",
       "      <td>0.733333</td>\n",
       "      <td>0.715152</td>\n",
       "      <td>yuppieweinsberg</td>\n",
       "      <td>yuppiefusionbeerweinsberge</td>\n",
       "    </tr>\n",
       "    <tr>\n",
       "      <th>20735</th>\n",
       "      <td>002.jpg</td>\n",
       "      <td>KAIST</td>\n",
       "      <td>aws</td>\n",
       "      <td>0</td>\n",
       "      <td>0.500000</td>\n",
       "      <td>1.173068</td>\n",
       "      <td>doobob</td>\n",
       "      <td>doobobsaxzadoobob</td>\n",
       "    </tr>\n",
       "    <tr>\n",
       "      <th>20736</th>\n",
       "      <td>002.jpg</td>\n",
       "      <td>KAIST</td>\n",
       "      <td>azure</td>\n",
       "      <td>0</td>\n",
       "      <td>0.166667</td>\n",
       "      <td>0.063227</td>\n",
       "      <td>doobob</td>\n",
       "      <td>00060b</td>\n",
       "    </tr>\n",
       "    <tr>\n",
       "      <th>...</th>\n",
       "      <td>...</td>\n",
       "      <td>...</td>\n",
       "      <td>...</td>\n",
       "      <td>...</td>\n",
       "      <td>...</td>\n",
       "      <td>...</td>\n",
       "      <td>...</td>\n",
       "      <td>...</td>\n",
       "    </tr>\n",
       "    <tr>\n",
       "      <th>24533</th>\n",
       "      <td>s.jpg</td>\n",
       "      <td>KAIST</td>\n",
       "      <td>azure</td>\n",
       "      <td>0</td>\n",
       "      <td>0.000000</td>\n",
       "      <td>0.063267</td>\n",
       "      <td>puma</td>\n",
       "      <td></td>\n",
       "    </tr>\n",
       "    <tr>\n",
       "      <th>24534</th>\n",
       "      <td>u.jpg</td>\n",
       "      <td>KAIST</td>\n",
       "      <td>aws</td>\n",
       "      <td>0</td>\n",
       "      <td>0.750000</td>\n",
       "      <td>0.928067</td>\n",
       "      <td>aroo</td>\n",
       "      <td>araoroobakeryts3</td>\n",
       "    </tr>\n",
       "    <tr>\n",
       "      <th>24535</th>\n",
       "      <td>u.jpg</td>\n",
       "      <td>KAIST</td>\n",
       "      <td>azure</td>\n",
       "      <td>0</td>\n",
       "      <td>0.500000</td>\n",
       "      <td>0.064549</td>\n",
       "      <td>aroo</td>\n",
       "      <td>az</td>\n",
       "    </tr>\n",
       "    <tr>\n",
       "      <th>24536</th>\n",
       "      <td>v.jpg</td>\n",
       "      <td>KAIST</td>\n",
       "      <td>azure</td>\n",
       "      <td>0</td>\n",
       "      <td>1.000000</td>\n",
       "      <td>0.071155</td>\n",
       "      <td>thdbodyshop</td>\n",
       "      <td>shop</td>\n",
       "    </tr>\n",
       "    <tr>\n",
       "      <th>24537</th>\n",
       "      <td>x.jpg</td>\n",
       "      <td>KAIST</td>\n",
       "      <td>azure</td>\n",
       "      <td>0</td>\n",
       "      <td>0.733333</td>\n",
       "      <td>0.065393</td>\n",
       "      <td>raddswitzerland</td>\n",
       "      <td>radoswitzerland</td>\n",
       "    </tr>\n",
       "  </tbody>\n",
       "</table>\n",
       "<p>3625 rows × 8 columns</p>\n",
       "</div>"
      ],
      "text/plain": [
       "      file_name dataset  label status     score      time       actual_str  \\\n",
       "20732   001.jpg   KAIST    aws      0  0.733333  1.372061  yuppieweinsberg   \n",
       "20733   001.jpg   KAIST  azure      0  0.500000  0.092751  yuppieweinsberg   \n",
       "20734   001.jpg   KAIST     gc      0  0.733333  0.715152  yuppieweinsberg   \n",
       "20735   002.jpg   KAIST    aws      0  0.500000  1.173068           doobob   \n",
       "20736   002.jpg   KAIST  azure      0  0.166667  0.063227           doobob   \n",
       "...         ...     ...    ...    ...       ...       ...              ...   \n",
       "24533     s.jpg   KAIST  azure      0  0.000000  0.063267             puma   \n",
       "24534     u.jpg   KAIST    aws      0  0.750000  0.928067             aroo   \n",
       "24535     u.jpg   KAIST  azure      0  0.500000  0.064549             aroo   \n",
       "24536     v.jpg   KAIST  azure      0  1.000000  0.071155      thdbodyshop   \n",
       "24537     x.jpg   KAIST  azure      0  0.733333  0.065393  raddswitzerland   \n",
       "\n",
       "                               detected_str  \n",
       "20732  yuppiefusionbeerweinsbergt11491989ls  \n",
       "20733                                unnsna  \n",
       "20734            yuppiefusionbeerweinsberge  \n",
       "20735                     doobobsaxzadoobob  \n",
       "20736                                00060b  \n",
       "...                                     ...  \n",
       "24533                                        \n",
       "24534                      araoroobakeryts3  \n",
       "24535                                    az  \n",
       "24536                                  shop  \n",
       "24537                       radoswitzerland  \n",
       "\n",
       "[3625 rows x 8 columns]"
      ]
     },
     "execution_count": 10,
     "metadata": {},
     "output_type": "execute_result"
    }
   ],
   "source": [
    "pdOcrSuccess"
   ]
  },
  {
   "cell_type": "code",
   "execution_count": null,
   "metadata": {},
   "outputs": [],
   "source": []
  },
  {
   "cell_type": "code",
   "execution_count": null,
   "metadata": {},
   "outputs": [],
   "source": []
  },
  {
   "cell_type": "code",
   "execution_count": null,
   "metadata": {},
   "outputs": [],
   "source": []
  },
  {
   "cell_type": "code",
   "execution_count": null,
   "metadata": {},
   "outputs": [],
   "source": []
  },
  {
   "cell_type": "code",
   "execution_count": null,
   "metadata": {},
   "outputs": [],
   "source": []
  },
  {
   "cell_type": "code",
   "execution_count": null,
   "metadata": {},
   "outputs": [],
   "source": []
  },
  {
   "cell_type": "code",
   "execution_count": 33,
   "metadata": {},
   "outputs": [],
   "source": [
    "import warnings\n",
    "warnings.filterwarnings('ignore')"
   ]
  },
  {
   "cell_type": "code",
   "execution_count": null,
   "metadata": {},
   "outputs": [],
   "source": []
  }
 ],
 "metadata": {
  "kernelspec": {
   "display_name": "Python (cs682)",
   "language": "python",
   "name": "cs682"
  },
  "language_info": {
   "codemirror_mode": {
    "name": "ipython",
    "version": 3
   },
   "file_extension": ".py",
   "mimetype": "text/x-python",
   "name": "python",
   "nbconvert_exporter": "python",
   "pygments_lexer": "ipython3",
   "version": "3.6.9"
  }
 },
 "nbformat": 4,
 "nbformat_minor": 2
}
